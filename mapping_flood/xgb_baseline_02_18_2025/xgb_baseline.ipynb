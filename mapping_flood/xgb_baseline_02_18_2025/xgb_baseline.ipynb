{
 "cells": [
  {
   "cell_type": "markdown",
   "id": "2063edba-a00f-437c-a8d6-c0ec2a17598e",
   "metadata": {},
   "source": [
    "## In this notebook, we build a baseline xgb model for the flood mapping competition\n",
    "https://zindi.africa/competitions/inundata-mapping-floods-in-south-africa/data\n",
    "\n",
    "### The goal is to build a reliable cross-validation workflow that aligns with leaderboard"
   ]
  },
  {
   "cell_type": "code",
   "execution_count": 1,
   "id": "5c1f2be5-dad3-45ca-944d-4dc518169fcd",
   "metadata": {},
   "outputs": [],
   "source": [
    "PATH = '/raid/ml/flood'\n",
    "\n",
    "import pandas as pd\n",
    "from xgb_helper import XGBHelper\n",
    "from sklearn.metrics import log_loss\n",
    "from sklearn.model_selection import StratifiedGroupKFold"
   ]
  },
  {
   "cell_type": "markdown",
   "id": "9a36c59d-a416-443f-99a6-57a5b27e79e4",
   "metadata": {},
   "source": [
    "### Select the correct validation strategy"
   ]
  },
  {
   "cell_type": "code",
   "execution_count": 2,
   "id": "8faf1b37-30b1-43e2-8239-de2a58bd3173",
   "metadata": {},
   "outputs": [
    {
     "data": {
      "text/html": [
       "<div>\n",
       "<style scoped>\n",
       "    .dataframe tbody tr th:only-of-type {\n",
       "        vertical-align: middle;\n",
       "    }\n",
       "\n",
       "    .dataframe tbody tr th {\n",
       "        vertical-align: top;\n",
       "    }\n",
       "\n",
       "    .dataframe thead th {\n",
       "        text-align: right;\n",
       "    }\n",
       "</style>\n",
       "<table border=\"1\" class=\"dataframe\">\n",
       "  <thead>\n",
       "    <tr style=\"text-align: right;\">\n",
       "      <th></th>\n",
       "      <th>event_id</th>\n",
       "      <th>precipitation</th>\n",
       "      <th>label</th>\n",
       "    </tr>\n",
       "  </thead>\n",
       "  <tbody>\n",
       "    <tr>\n",
       "      <th>0</th>\n",
       "      <td>id_spictby0jfsb_X_0</td>\n",
       "      <td>0.000000</td>\n",
       "      <td>0</td>\n",
       "    </tr>\n",
       "    <tr>\n",
       "      <th>1</th>\n",
       "      <td>id_spictby0jfsb_X_1</td>\n",
       "      <td>0.095438</td>\n",
       "      <td>0</td>\n",
       "    </tr>\n",
       "    <tr>\n",
       "      <th>2</th>\n",
       "      <td>id_spictby0jfsb_X_2</td>\n",
       "      <td>1.949560</td>\n",
       "      <td>0</td>\n",
       "    </tr>\n",
       "    <tr>\n",
       "      <th>3</th>\n",
       "      <td>id_spictby0jfsb_X_3</td>\n",
       "      <td>3.232160</td>\n",
       "      <td>0</td>\n",
       "    </tr>\n",
       "    <tr>\n",
       "      <th>4</th>\n",
       "      <td>id_spictby0jfsb_X_4</td>\n",
       "      <td>0.000000</td>\n",
       "      <td>0</td>\n",
       "    </tr>\n",
       "  </tbody>\n",
       "</table>\n",
       "</div>"
      ],
      "text/plain": [
       "              event_id  precipitation  label\n",
       "0  id_spictby0jfsb_X_0       0.000000      0\n",
       "1  id_spictby0jfsb_X_1       0.095438      0\n",
       "2  id_spictby0jfsb_X_2       1.949560      0\n",
       "3  id_spictby0jfsb_X_3       3.232160      0\n",
       "4  id_spictby0jfsb_X_4       0.000000      0"
      ]
     },
     "execution_count": 2,
     "metadata": {},
     "output_type": "execute_result"
    }
   ],
   "source": [
    "train = pd.read_csv(f'{PATH}/Train.csv')\n",
    "test = pd.read_csv(f'{PATH}/Test.csv')\n",
    "train.head()"
   ]
  },
  {
   "cell_type": "code",
   "execution_count": 3,
   "id": "f7fde0be-edd7-4dc9-9586-7a56b62a1b09",
   "metadata": {},
   "outputs": [
    {
     "data": {
      "text/html": [
       "<div>\n",
       "<style scoped>\n",
       "    .dataframe tbody tr th:only-of-type {\n",
       "        vertical-align: middle;\n",
       "    }\n",
       "\n",
       "    .dataframe tbody tr th {\n",
       "        vertical-align: top;\n",
       "    }\n",
       "\n",
       "    .dataframe thead th {\n",
       "        text-align: right;\n",
       "    }\n",
       "</style>\n",
       "<table border=\"1\" class=\"dataframe\">\n",
       "  <thead>\n",
       "    <tr style=\"text-align: right;\">\n",
       "      <th></th>\n",
       "      <th>event_id</th>\n",
       "      <th>precipitation</th>\n",
       "    </tr>\n",
       "  </thead>\n",
       "  <tbody>\n",
       "    <tr>\n",
       "      <th>0</th>\n",
       "      <td>id_j7b6sokflo4k_X_0</td>\n",
       "      <td>0.00000</td>\n",
       "    </tr>\n",
       "    <tr>\n",
       "      <th>1</th>\n",
       "      <td>id_j7b6sokflo4k_X_1</td>\n",
       "      <td>3.01864</td>\n",
       "    </tr>\n",
       "    <tr>\n",
       "      <th>2</th>\n",
       "      <td>id_j7b6sokflo4k_X_2</td>\n",
       "      <td>0.00000</td>\n",
       "    </tr>\n",
       "    <tr>\n",
       "      <th>3</th>\n",
       "      <td>id_j7b6sokflo4k_X_3</td>\n",
       "      <td>16.61520</td>\n",
       "    </tr>\n",
       "    <tr>\n",
       "      <th>4</th>\n",
       "      <td>id_j7b6sokflo4k_X_4</td>\n",
       "      <td>2.56706</td>\n",
       "    </tr>\n",
       "  </tbody>\n",
       "</table>\n",
       "</div>"
      ],
      "text/plain": [
       "              event_id  precipitation\n",
       "0  id_j7b6sokflo4k_X_0        0.00000\n",
       "1  id_j7b6sokflo4k_X_1        3.01864\n",
       "2  id_j7b6sokflo4k_X_2        0.00000\n",
       "3  id_j7b6sokflo4k_X_3       16.61520\n",
       "4  id_j7b6sokflo4k_X_4        2.56706"
      ]
     },
     "execution_count": 3,
     "metadata": {},
     "output_type": "execute_result"
    }
   ],
   "source": [
    "test.head()"
   ]
  },
  {
   "cell_type": "code",
   "execution_count": 4,
   "id": "8816daba-c956-471d-aa6e-3c69ca4943fb",
   "metadata": {},
   "outputs": [],
   "source": [
    "train['day'] = train['event_id'].apply(lambda x: x.split('_')[-1]).astype(int)\n",
    "train['location'] = train['event_id'].apply(lambda x: '_'.join(x.split('_')[1]))\n",
    "\n",
    "test['day'] = test['event_id'].apply(lambda x: x.split('_')[-1]).astype(int)\n",
    "test['location'] = test['event_id'].apply(lambda x: '_'.join(x.split('_')[1]))"
   ]
  },
  {
   "cell_type": "code",
   "execution_count": 5,
   "id": "9fc5f5d2-2627-48e5-a588-5dba6ee49472",
   "metadata": {},
   "outputs": [
    {
     "name": "stdout",
     "output_type": "stream",
     "text": [
      "# of locations in test data which can also be found in training data\n"
     ]
    },
    {
     "data": {
      "text/plain": [
       "0"
      ]
     },
     "execution_count": 5,
     "metadata": {},
     "output_type": "execute_result"
    }
   ],
   "source": [
    "mask = test.location.isin(train.location.unique())\n",
    "print('# of locations in test data which can also be found in training data')\n",
    "mask.sum()"
   ]
  },
  {
   "cell_type": "markdown",
   "id": "2d15641d-c5c6-4df1-aa74-c53bed421348",
   "metadata": {},
   "source": [
    "#### Implications\n",
    "- ##### location should not be used as feature\n",
    "- ##### train and validation should have locations in common"
   ]
  },
  {
   "cell_type": "code",
   "execution_count": 6,
   "id": "72afde9d-7c63-4d40-99a1-2c8a865cd559",
   "metadata": {},
   "outputs": [
    {
     "name": "stdout",
     "output_type": "stream",
     "text": [
      "Fold 0\n",
      "# of locations in validation which can also be found in training data: 0\n",
      "mean target in validation 0.0006 mean target in training 0.0006\n",
      "\n",
      "Fold 1\n",
      "# of locations in validation which can also be found in training data: 0\n",
      "mean target in validation 0.0006 mean target in training 0.0006\n",
      "\n",
      "Fold 2\n",
      "# of locations in validation which can also be found in training data: 0\n",
      "mean target in validation 0.0006 mean target in training 0.0006\n",
      "\n",
      "Fold 3\n",
      "# of locations in validation which can also be found in training data: 0\n",
      "mean target in validation 0.0006 mean target in training 0.0006\n",
      "\n"
     ]
    }
   ],
   "source": [
    "folds = 4\n",
    "kf = StratifiedGroupKFold(n_splits=folds)\n",
    "for i, (tr_idx, val_idx) in enumerate(kf.split(train, train['label'], groups=train['location'])):\n",
    "    tr = train.iloc[tr_idx]\n",
    "    val = train.iloc[val_idx]\n",
    "    mask = val.location.isin(tr.location.unique())\n",
    "    print('Fold', i)\n",
    "    print('# of locations in validation which can also be found in training data:', mask.sum())\n",
    "    print(f'mean target in validation {val.label.mean():.4f} mean target in training {tr.label.mean():.4f}')\n",
    "    print()"
   ]
  },
  {
   "cell_type": "markdown",
   "id": "924fc2e7-10d7-4fb2-bf7c-49c286cc3c93",
   "metadata": {},
   "source": [
    "### Train the baseline xgboost model"
   ]
  },
  {
   "cell_type": "code",
   "execution_count": 7,
   "id": "d5038aa8-8fb2-4588-a257-f7e85803bdc7",
   "metadata": {},
   "outputs": [
    {
     "name": "stdout",
     "output_type": "stream",
     "text": [
      "[0]\ttrain-logloss:0.12587\tval-logloss:0.12588\n",
      "[100]\ttrain-logloss:0.01899\tval-logloss:0.01896\n",
      "[200]\ttrain-logloss:0.00587\tval-logloss:0.00574\n",
      "[300]\ttrain-logloss:0.00420\tval-logloss:0.00400\n",
      "[400]\ttrain-logloss:0.00397\tval-logloss:0.00378\n",
      "[500]\ttrain-logloss:0.00392\tval-logloss:0.00375\n",
      "[600]\ttrain-logloss:0.00388\tval-logloss:0.00375\n",
      "[673]\ttrain-logloss:0.00387\tval-logloss:0.00375\n",
      "fold 0 0.003744041915032518\n",
      "[0]\ttrain-logloss:0.12587\tval-logloss:0.12587\n",
      "[100]\ttrain-logloss:0.01896\tval-logloss:0.01901\n",
      "[200]\ttrain-logloss:0.00582\tval-logloss:0.00590\n",
      "[300]\ttrain-logloss:0.00413\tval-logloss:0.00423\n",
      "[400]\ttrain-logloss:0.00390\tval-logloss:0.00401\n",
      "[500]\ttrain-logloss:0.00384\tval-logloss:0.00399\n",
      "[571]\ttrain-logloss:0.00382\tval-logloss:0.00399\n",
      "fold 1 0.003987633668362566\n",
      "[0]\ttrain-logloss:0.12587\tval-logloss:0.12586\n",
      "[100]\ttrain-logloss:0.01898\tval-logloss:0.01895\n",
      "[200]\ttrain-logloss:0.00583\tval-logloss:0.00583\n",
      "[300]\ttrain-logloss:0.00415\tval-logloss:0.00418\n",
      "[400]\ttrain-logloss:0.00392\tval-logloss:0.00395\n",
      "[500]\ttrain-logloss:0.00386\tval-logloss:0.00392\n",
      "[600]\ttrain-logloss:0.00383\tval-logloss:0.00392\n",
      "[699]\ttrain-logloss:0.00380\tval-logloss:0.00392\n",
      "fold 2 0.003916815816499792\n",
      "[0]\ttrain-logloss:0.12587\tval-logloss:0.12587\n",
      "[100]\ttrain-logloss:0.01893\tval-logloss:0.01905\n",
      "[200]\ttrain-logloss:0.00576\tval-logloss:0.00603\n",
      "[300]\ttrain-logloss:0.00407\tval-logloss:0.00441\n",
      "[400]\ttrain-logloss:0.00383\tval-logloss:0.00421\n",
      "[500]\ttrain-logloss:0.00377\tval-logloss:0.00419\n",
      "[580]\ttrain-logloss:0.00375\tval-logloss:0.00419\n",
      "fold 3 0.004187793496280969\n",
      "final 0.003958794566974683\n"
     ]
    }
   ],
   "source": [
    "feas = ['precipitation', 'day']\n",
    "test['prob'] = 0\n",
    "for i, (tr_idx, val_idx) in enumerate(kf.split(train, train['label'], groups=train['location'])):\n",
    "    tr = train.iloc[tr_idx]\n",
    "    val = train.iloc[val_idx]\n",
    "\n",
    "    xgb = XGBHelper('classification', params={'max_depth': 3, 'eta':0.02,\n",
    "                                              'subsample':0.5,\n",
    "                                              'colsample_bytree':1}, \n",
    "                    num_boost_rounds=1000,\n",
    "                    early_stop_rounds=100)\n",
    "    xgb.fit(tr[feas], tr['label'], val[feas], val['label'])\n",
    "\n",
    "    train.loc[val_idx,'prob'] = xgb.predict(val[feas])\n",
    "    test['prob'] += xgb.predict(test[feas])\n",
    "    score = log_loss(train.loc[val_idx,'label'], train.loc[val_idx,'prob'])\n",
    "    print('fold', i, score)\n",
    "    \n",
    "score = log_loss(train['label'], train['prob'])\n",
    "print('final', score)\n",
    "test['label'] = test['prob']/folds\n",
    "test[['event_id','label']].to_csv(f'sub_xgb_baseline.csv', index=False, float_format='%.10f')\n",
    "train.to_csv(f'cv_xgb_baseline.csv', index=False, float_format='%.10f')"
   ]
  },
  {
   "cell_type": "markdown",
   "id": "7363b69a-36bb-4397-b707-c0c1164c8387",
   "metadata": {},
   "source": [
    "### Submit the prediction and we get LB scores: `0.00439346` on public and `0.004000973` on private\n",
    "The CV score `0.00395` aligns with LB score so our CV strategy works."
   ]
  }
 ],
 "metadata": {
  "kernelspec": {
   "display_name": "Python 3 (ipykernel)",
   "language": "python",
   "name": "python3"
  },
  "language_info": {
   "codemirror_mode": {
    "name": "ipython",
    "version": 3
   },
   "file_extension": ".py",
   "mimetype": "text/x-python",
   "name": "python",
   "nbconvert_exporter": "python",
   "pygments_lexer": "ipython3",
   "version": "3.11.11"
  }
 },
 "nbformat": 4,
 "nbformat_minor": 5
}
