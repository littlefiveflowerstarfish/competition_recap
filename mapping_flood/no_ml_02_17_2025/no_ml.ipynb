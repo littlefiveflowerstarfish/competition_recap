{
 "cells": [
  {
   "cell_type": "markdown",
   "id": "fbd2b005-a68d-403f-9566-3b517650b746",
   "metadata": {},
   "source": [
    "## In this notebook, we take a step back and try a rule based model for the flood mapping competition\n",
    "https://zindi.africa/competitions/inundata-mapping-floods-in-south-africa/data\n"
   ]
  },
  {
   "cell_type": "code",
   "execution_count": 1,
   "id": "5fe0be82-9ed7-48bf-9a19-c7d41b1be88c",
   "metadata": {},
   "outputs": [],
   "source": [
    "import warnings\n",
    "warnings.filterwarnings('ignore')\n",
    "import pandas as pd\n",
    "import numpy as np\n",
    "from sklearn.metrics import log_loss\n",
    "import os\n",
    "import matplotlib.pyplot as plt\n",
    "import seaborn as sns"
   ]
  },
  {
   "cell_type": "code",
   "execution_count": 2,
   "id": "bdc13683-cdcb-4284-95f2-841d88f600a8",
   "metadata": {},
   "outputs": [
    {
     "data": {
      "text/html": [
       "<div>\n",
       "<style scoped>\n",
       "    .dataframe tbody tr th:only-of-type {\n",
       "        vertical-align: middle;\n",
       "    }\n",
       "\n",
       "    .dataframe tbody tr th {\n",
       "        vertical-align: top;\n",
       "    }\n",
       "\n",
       "    .dataframe thead th {\n",
       "        text-align: right;\n",
       "    }\n",
       "</style>\n",
       "<table border=\"1\" class=\"dataframe\">\n",
       "  <thead>\n",
       "    <tr style=\"text-align: right;\">\n",
       "      <th></th>\n",
       "      <th>event_id</th>\n",
       "      <th>precipitation</th>\n",
       "      <th>label</th>\n",
       "    </tr>\n",
       "  </thead>\n",
       "  <tbody>\n",
       "    <tr>\n",
       "      <th>0</th>\n",
       "      <td>id_spictby0jfsb_X_0</td>\n",
       "      <td>0.000000</td>\n",
       "      <td>0</td>\n",
       "    </tr>\n",
       "    <tr>\n",
       "      <th>1</th>\n",
       "      <td>id_spictby0jfsb_X_1</td>\n",
       "      <td>0.095438</td>\n",
       "      <td>0</td>\n",
       "    </tr>\n",
       "    <tr>\n",
       "      <th>2</th>\n",
       "      <td>id_spictby0jfsb_X_2</td>\n",
       "      <td>1.949560</td>\n",
       "      <td>0</td>\n",
       "    </tr>\n",
       "    <tr>\n",
       "      <th>3</th>\n",
       "      <td>id_spictby0jfsb_X_3</td>\n",
       "      <td>3.232160</td>\n",
       "      <td>0</td>\n",
       "    </tr>\n",
       "    <tr>\n",
       "      <th>4</th>\n",
       "      <td>id_spictby0jfsb_X_4</td>\n",
       "      <td>0.000000</td>\n",
       "      <td>0</td>\n",
       "    </tr>\n",
       "  </tbody>\n",
       "</table>\n",
       "</div>"
      ],
      "text/plain": [
       "              event_id  precipitation  label\n",
       "0  id_spictby0jfsb_X_0       0.000000      0\n",
       "1  id_spictby0jfsb_X_1       0.095438      0\n",
       "2  id_spictby0jfsb_X_2       1.949560      0\n",
       "3  id_spictby0jfsb_X_3       3.232160      0\n",
       "4  id_spictby0jfsb_X_4       0.000000      0"
      ]
     },
     "execution_count": 2,
     "metadata": {},
     "output_type": "execute_result"
    }
   ],
   "source": [
    "path = '/raid/ml/flood'\n",
    "train_path = os.path.join(path,'Train.csv')\n",
    "train_df = pd.read_csv(train_path)\n",
    "train_df.head()"
   ]
  },
  {
   "cell_type": "code",
   "execution_count": 3,
   "id": "cbc2f610-d59f-449a-a456-9e5483acfb62",
   "metadata": {},
   "outputs": [
    {
     "data": {
      "text/html": [
       "<div>\n",
       "<style scoped>\n",
       "    .dataframe tbody tr th:only-of-type {\n",
       "        vertical-align: middle;\n",
       "    }\n",
       "\n",
       "    .dataframe tbody tr th {\n",
       "        vertical-align: top;\n",
       "    }\n",
       "\n",
       "    .dataframe thead th {\n",
       "        text-align: right;\n",
       "    }\n",
       "</style>\n",
       "<table border=\"1\" class=\"dataframe\">\n",
       "  <thead>\n",
       "    <tr style=\"text-align: right;\">\n",
       "      <th></th>\n",
       "      <th>event_id</th>\n",
       "      <th>precipitation</th>\n",
       "    </tr>\n",
       "  </thead>\n",
       "  <tbody>\n",
       "    <tr>\n",
       "      <th>0</th>\n",
       "      <td>id_j7b6sokflo4k_X_0</td>\n",
       "      <td>0.00000</td>\n",
       "    </tr>\n",
       "    <tr>\n",
       "      <th>1</th>\n",
       "      <td>id_j7b6sokflo4k_X_1</td>\n",
       "      <td>3.01864</td>\n",
       "    </tr>\n",
       "    <tr>\n",
       "      <th>2</th>\n",
       "      <td>id_j7b6sokflo4k_X_2</td>\n",
       "      <td>0.00000</td>\n",
       "    </tr>\n",
       "    <tr>\n",
       "      <th>3</th>\n",
       "      <td>id_j7b6sokflo4k_X_3</td>\n",
       "      <td>16.61520</td>\n",
       "    </tr>\n",
       "    <tr>\n",
       "      <th>4</th>\n",
       "      <td>id_j7b6sokflo4k_X_4</td>\n",
       "      <td>2.56706</td>\n",
       "    </tr>\n",
       "  </tbody>\n",
       "</table>\n",
       "</div>"
      ],
      "text/plain": [
       "              event_id  precipitation\n",
       "0  id_j7b6sokflo4k_X_0        0.00000\n",
       "1  id_j7b6sokflo4k_X_1        3.01864\n",
       "2  id_j7b6sokflo4k_X_2        0.00000\n",
       "3  id_j7b6sokflo4k_X_3       16.61520\n",
       "4  id_j7b6sokflo4k_X_4        2.56706"
      ]
     },
     "execution_count": 3,
     "metadata": {},
     "output_type": "execute_result"
    }
   ],
   "source": [
    "test_path = os.path.join(path,'Test.csv')\n",
    "test_df = pd.read_csv(test_path)\n",
    "test_df.head()"
   ]
  },
  {
   "cell_type": "code",
   "execution_count": 4,
   "id": "abc959e5-56f1-49f0-a1c1-8f42dcf80610",
   "metadata": {},
   "outputs": [
    {
     "data": {
      "text/html": [
       "<div>\n",
       "<style scoped>\n",
       "    .dataframe tbody tr th:only-of-type {\n",
       "        vertical-align: middle;\n",
       "    }\n",
       "\n",
       "    .dataframe tbody tr th {\n",
       "        vertical-align: top;\n",
       "    }\n",
       "\n",
       "    .dataframe thead th {\n",
       "        text-align: right;\n",
       "    }\n",
       "</style>\n",
       "<table border=\"1\" class=\"dataframe\">\n",
       "  <thead>\n",
       "    <tr style=\"text-align: right;\">\n",
       "      <th></th>\n",
       "      <th>event_id</th>\n",
       "      <th>precipitation</th>\n",
       "      <th>label</th>\n",
       "      <th>location</th>\n",
       "      <th>day</th>\n",
       "    </tr>\n",
       "  </thead>\n",
       "  <tbody>\n",
       "    <tr>\n",
       "      <th>0</th>\n",
       "      <td>id_spictby0jfsb_X_0</td>\n",
       "      <td>0.000000</td>\n",
       "      <td>0</td>\n",
       "      <td>spictby0jfsb</td>\n",
       "      <td>0</td>\n",
       "    </tr>\n",
       "    <tr>\n",
       "      <th>1</th>\n",
       "      <td>id_spictby0jfsb_X_1</td>\n",
       "      <td>0.095438</td>\n",
       "      <td>0</td>\n",
       "      <td>spictby0jfsb</td>\n",
       "      <td>1</td>\n",
       "    </tr>\n",
       "    <tr>\n",
       "      <th>2</th>\n",
       "      <td>id_spictby0jfsb_X_2</td>\n",
       "      <td>1.949560</td>\n",
       "      <td>0</td>\n",
       "      <td>spictby0jfsb</td>\n",
       "      <td>2</td>\n",
       "    </tr>\n",
       "    <tr>\n",
       "      <th>3</th>\n",
       "      <td>id_spictby0jfsb_X_3</td>\n",
       "      <td>3.232160</td>\n",
       "      <td>0</td>\n",
       "      <td>spictby0jfsb</td>\n",
       "      <td>3</td>\n",
       "    </tr>\n",
       "    <tr>\n",
       "      <th>4</th>\n",
       "      <td>id_spictby0jfsb_X_4</td>\n",
       "      <td>0.000000</td>\n",
       "      <td>0</td>\n",
       "      <td>spictby0jfsb</td>\n",
       "      <td>4</td>\n",
       "    </tr>\n",
       "  </tbody>\n",
       "</table>\n",
       "</div>"
      ],
      "text/plain": [
       "              event_id  precipitation  label      location  day\n",
       "0  id_spictby0jfsb_X_0       0.000000      0  spictby0jfsb    0\n",
       "1  id_spictby0jfsb_X_1       0.095438      0  spictby0jfsb    1\n",
       "2  id_spictby0jfsb_X_2       1.949560      0  spictby0jfsb    2\n",
       "3  id_spictby0jfsb_X_3       3.232160      0  spictby0jfsb    3\n",
       "4  id_spictby0jfsb_X_4       0.000000      0  spictby0jfsb    4"
      ]
     },
     "execution_count": 4,
     "metadata": {},
     "output_type": "execute_result"
    }
   ],
   "source": [
    "# Extract location and day from event_id\n",
    "train_df['location'] = train_df['event_id'].apply(lambda x: x.split('_')[1])\n",
    "train_df['day'] = train_df['event_id'].apply(lambda x: int(x.split('_')[-1])).astype(int)\n",
    "\n",
    "test_df['location'] = test_df['event_id'].apply(lambda x: x.split('_')[1])\n",
    "test_df['day'] = test_df['event_id'].apply(lambda x: int(x.split('_')[-1])).astype(int)\n",
    "\n",
    "train_df.head()"
   ]
  },
  {
   "cell_type": "code",
   "execution_count": 5,
   "id": "61d6fde3-9dd9-428b-b4c1-0ac6de7b8e42",
   "metadata": {},
   "outputs": [
    {
     "data": {
      "image/png": "[encoded data removed]",
      "text/plain": [
       "<Figure size 800x600 with 1 Axes>"
      ]
     },
     "metadata": {},
     "output_type": "display_data"
    }
   ],
   "source": [
    "# --- Visualization 1: Count of Locations with and without Floods ---\n",
    "flood_locations = train_df[train_df['label'] == 1]['location'].unique()\n",
    "num_locations = train_df['location'].nunique()\n",
    "no_flood_locations = num_locations - len(flood_locations)\n",
    "plt.figure(figsize=(8, 6))\n",
    "sns.barplot(x=['Flood', 'No Flood'], y=[len(flood_locations), no_flood_locations], palette='viridis')\n",
    "plt.title(\"Number of Locations with and without Flood Events\")\n",
    "plt.ylabel(\"Number of Locations\")\n",
    "plt.show()"
   ]
  },
  {
   "cell_type": "code",
   "execution_count": 6,
   "id": "dc2e8a58-a945-4f1d-a0c3-a706abdd4e53",
   "metadata": {},
   "outputs": [
    {
     "data": {
      "text/plain": [
       "0.47181008902077154"
      ]
     },
     "execution_count": 6,
     "metadata": {},
     "output_type": "execute_result"
    }
   ],
   "source": [
    "flood_percentage = len(flood_locations) / train_df['location'].nunique()\n",
    "flood_percentage"
   ]
  },
  {
   "cell_type": "code",
   "execution_count": 7,
   "id": "420b4a55-e449-4d6e-a58c-2fbaf5689ed0",
   "metadata": {},
   "outputs": [
    {
     "data": {
      "image/png": "[encoded data removed]",
      "text/plain": [
       "<Figure size 1000x600 with 1 Axes>"
      ]
     },
     "metadata": {},
     "output_type": "display_data"
    }
   ],
   "source": [
    "# Calculate min and max flood days for each location\n",
    "flood_days = train_df[train_df['label'] == 1]['day']\n",
    "# --- Visualization 2: Distribution of Flood Event Days in Train Data ---\n",
    "plt.figure(figsize=(10, 6))\n",
    "sns.histplot(flood_days, bins=30, kde=False, color='salmon')\n",
    "plt.title(\"Distribution of Flood Event Days in Train Data\")\n",
    "plt.xlabel(\"Day\")\n",
    "plt.ylabel(\"Count\")\n",
    "plt.show()\n"
   ]
  },
  {
   "cell_type": "code",
   "execution_count": 8,
   "id": "2a318aa8-d0b4-41ab-8e21-3bd56b04ac3d",
   "metadata": {},
   "outputs": [
    {
     "data": {
      "text/plain": [
       "(296, 435, 139)"
      ]
     },
     "execution_count": 8,
     "metadata": {},
     "output_type": "execute_result"
    }
   ],
   "source": [
    "ndays = flood_days.max() - flood_days.min()\n",
    "flood_days.min(), flood_days.max(), ndays"
   ]
  },
  {
   "cell_type": "code",
   "execution_count": 9,
   "id": "601451fd-f8e3-47cb-a182-397af2b51651",
   "metadata": {},
   "outputs": [
    {
     "name": "stdout",
     "output_type": "stream",
     "text": [
      "Log Loss on Train: 0.004324598389247731\n"
     ]
    }
   ],
   "source": [
    "mask = (train_df.day>=flood_days.min()) & (train_df.day<=flood_days.max())\n",
    "train_df['prob'] = 0.0\n",
    "train_df.loc[mask,'prob'] = flood_percentage/ndays\n",
    "logloss = log_loss(train_df['label'], train_df['prob'])\n",
    "print(f\"Log Loss on Train: {logloss}\")"
   ]
  },
  {
   "cell_type": "code",
   "execution_count": 10,
   "id": "8f7fe019-3eed-4558-b07e-07dde030dac8",
   "metadata": {},
   "outputs": [],
   "source": [
    "mask = (test_df.day>=flood_days.min()) & (test_df.day<=flood_days.max())\n",
    "test_df['label'] = 0.0\n",
    "test_df.loc[mask,'label'] = flood_percentage/ndays\n",
    "# Save submission CSV\n",
    "test_df[['event_id','label']].to_csv('submission_no_ml.csv', index=False, float_format='%.10f')"
   ]
  },
  {
   "cell_type": "markdown",
   "id": "392ee89d-b141-43be-8142-6f17f8e3e6de",
   "metadata": {},
   "source": [
    "### The rule based submission got 0.004810266 on LB, better than the 0.006430 Deepmind benchmark!\n",
    "https://zindi.africa/competitions/inundata-mapping-floods-in-south-africa/discussions/23577"
   ]
  }
 ],
 "metadata": {
  "kernelspec": {
   "display_name": "Python 3 (ipykernel)",
   "language": "python",
   "name": "python3"
  },
  "language_info": {
   "codemirror_mode": {
    "name": "ipython",
    "version": 3
   },
   "file_extension": ".py",
   "mimetype": "text/x-python",
   "name": "python",
   "nbconvert_exporter": "python",
   "pygments_lexer": "ipython3",
   "version": "3.11.10"
  }
 },
 "nbformat": 4,
 "nbformat_minor": 5
}
